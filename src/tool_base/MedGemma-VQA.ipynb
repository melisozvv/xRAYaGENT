{
 "cells": [
  {
   "cell_type": "code",
   "execution_count": null,
   "metadata": {},
   "outputs": [],
   "source": [
    "!pip install -U transformers"
   ]
  },
  {
   "cell_type": "code",
   "execution_count": null,
   "metadata": {},
   "outputs": [
    {
     "name": "stderr",
     "output_type": "stream",
     "text": [
      "/Users/zxm/miniconda3/lib/python3.9/site-packages/tqdm/auto.py:21: TqdmWarning: IProgress not found. Please update jupyter and ipywidgets. See https://ipywidgets.readthedocs.io/en/stable/user_install.html\n",
      "  from .autonotebook import tqdm as notebook_tqdm\n"
     ]
    }
   ],
   "source": [
    "# Basic medical VQA with MedGemma\n",
    "from transformers import pipeline\n",
    "from PIL import Image\n",
    "import torch\n",
    "import os\n",
    "from pathlib import Path\n",
    "\n",
    "# Initialize pipeline\n",
    "pipe = pipeline(\n",
    "    \"image-text-to-text\",\n",
    "    model=\"google/medgemma-4b-it\",\n",
    "    torch_dtype=torch.bfloat16,\n",
    "    device=\"cuda\" if torch.cuda.is_available() else \"cpu\",\n",
    ")\n",
    "\n",
    "# Find image file with robust path handling\n",
    "possible_paths = [\n",
    "    \"../../data/xray.jpg\",  # From tools subdirectory\n",
    "    \"../data/xray.jpg\",     # From src directory\n",
    "    \"data/xray.jpg\",        # From project root\n",
    "    \"XrayAgent/data/xray.jpg\"  # If running from parent directory\n",
    "]\n",
    "\n",
    "image_path = None\n",
    "for path in possible_paths:\n",
    "    if os.path.exists(path):\n",
    "        image_path = path\n",
    "        break\n",
    "\n",
    "if image_path is None:\n",
    "    raise FileNotFoundError(\"Could not find xray.jpg. Please ensure the image exists in the data directory.\")\n",
    "\n",
    "image = Image.open(image_path)\n",
    "\n",
    "questions = [\"Is there evidence of pneumonia in this image?\"]\n",
    "\n",
    "for question in questions:\n",
    "    messages = [\n",
    "        {\n",
    "            \"role\": \"system\",\n",
    "            \"content\": [{\"type\": \"text\", \"text\": \"You are an expert radiologist. Provide detailed, accurate answers to medical questions about images.\"}]\n",
    "        },\n",
    "        {\n",
    "            \"role\": \"user\",\n",
    "            \"content\": [{\"type\": \"text\", \"text\": question}, {\"type\": \"image\", \"image\": image}]\n",
    "        }\n",
    "    ]\n",
    "    output = pipe(text=messages, max_new_tokens=200)\n",
    "    answer = output[0][\"generated_text\"][-1][\"content\"]\n",
    "    print(f\"Q: {question}\")\n",
    "    print(f\"A: {answer}\")"
   ]
  }
 ],
 "metadata": {
  "kernelspec": {
   "display_name": "base",
   "language": "python",
   "name": "python3"
  },
  "language_info": {
   "codemirror_mode": {
    "name": "ipython",
    "version": 3
   },
   "file_extension": ".py",
   "mimetype": "text/x-python",
   "name": "python",
   "nbconvert_exporter": "python",
   "pygments_lexer": "ipython3",
   "version": "3.9.18"
  }
 },
 "nbformat": 4,
 "nbformat_minor": 2
}

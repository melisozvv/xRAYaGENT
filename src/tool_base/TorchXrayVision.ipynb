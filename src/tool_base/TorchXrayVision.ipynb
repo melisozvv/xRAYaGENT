{
 "cells": [
  {
   "cell_type": "code",
   "execution_count": 2,
   "metadata": {},
   "outputs": [
    {
     "name": "stdout",
     "output_type": "stream",
     "text": [
      "Requirement already satisfied: torchxrayvision in /opt/miniconda3/lib/python3.13/site-packages (1.3.5)\n",
      "Requirement already satisfied: torch>=1 in /opt/miniconda3/lib/python3.13/site-packages (from torchxrayvision) (2.7.1)\n",
      "Requirement already satisfied: torchvision>=0.5 in /opt/miniconda3/lib/python3.13/site-packages (from torchxrayvision) (0.22.1)\n",
      "Requirement already satisfied: scikit-image>=0.16 in /opt/miniconda3/lib/python3.13/site-packages (from torchxrayvision) (0.25.2)\n",
      "Requirement already satisfied: tqdm>=4 in /opt/miniconda3/lib/python3.13/site-packages (from torchxrayvision) (4.67.1)\n",
      "Requirement already satisfied: numpy>=1 in /opt/miniconda3/lib/python3.13/site-packages (from torchxrayvision) (2.3.1)\n",
      "Requirement already satisfied: pandas>=1 in /opt/miniconda3/lib/python3.13/site-packages (from torchxrayvision) (2.3.0)\n",
      "Requirement already satisfied: requests>=1 in /opt/miniconda3/lib/python3.13/site-packages (from torchxrayvision) (2.32.3)\n",
      "Requirement already satisfied: pillow>=5.3.0 in /opt/miniconda3/lib/python3.13/site-packages (from torchxrayvision) (11.3.0)\n",
      "Requirement already satisfied: imageio in /opt/miniconda3/lib/python3.13/site-packages (from torchxrayvision) (2.37.0)\n",
      "Requirement already satisfied: python-dateutil>=2.8.2 in /opt/miniconda3/lib/python3.13/site-packages (from pandas>=1->torchxrayvision) (2.9.0.post0)\n",
      "Requirement already satisfied: pytz>=2020.1 in /opt/miniconda3/lib/python3.13/site-packages (from pandas>=1->torchxrayvision) (2025.2)\n",
      "Requirement already satisfied: tzdata>=2022.7 in /opt/miniconda3/lib/python3.13/site-packages (from pandas>=1->torchxrayvision) (2025.2)\n",
      "Requirement already satisfied: six>=1.5 in /opt/miniconda3/lib/python3.13/site-packages (from python-dateutil>=2.8.2->pandas>=1->torchxrayvision) (1.17.0)\n",
      "Requirement already satisfied: charset-normalizer<4,>=2 in /opt/miniconda3/lib/python3.13/site-packages (from requests>=1->torchxrayvision) (3.3.2)\n",
      "Requirement already satisfied: idna<4,>=2.5 in /opt/miniconda3/lib/python3.13/site-packages (from requests>=1->torchxrayvision) (3.7)\n",
      "Requirement already satisfied: urllib3<3,>=1.21.1 in /opt/miniconda3/lib/python3.13/site-packages (from requests>=1->torchxrayvision) (2.3.0)\n",
      "Requirement already satisfied: certifi>=2017.4.17 in /opt/miniconda3/lib/python3.13/site-packages (from requests>=1->torchxrayvision) (2025.6.15)\n",
      "Requirement already satisfied: scipy>=1.11.4 in /opt/miniconda3/lib/python3.13/site-packages (from scikit-image>=0.16->torchxrayvision) (1.16.0)\n",
      "Requirement already satisfied: networkx>=3.0 in /opt/miniconda3/lib/python3.13/site-packages (from scikit-image>=0.16->torchxrayvision) (3.5)\n",
      "Requirement already satisfied: tifffile>=2022.8.12 in /opt/miniconda3/lib/python3.13/site-packages (from scikit-image>=0.16->torchxrayvision) (2025.6.11)\n",
      "Requirement already satisfied: packaging>=21 in /opt/miniconda3/lib/python3.13/site-packages (from scikit-image>=0.16->torchxrayvision) (24.2)\n",
      "Requirement already satisfied: lazy-loader>=0.4 in /opt/miniconda3/lib/python3.13/site-packages (from scikit-image>=0.16->torchxrayvision) (0.4)\n",
      "Requirement already satisfied: filelock in /opt/miniconda3/lib/python3.13/site-packages (from torch>=1->torchxrayvision) (3.18.0)\n",
      "Requirement already satisfied: typing-extensions>=4.10.0 in /opt/miniconda3/lib/python3.13/site-packages (from torch>=1->torchxrayvision) (4.12.2)\n",
      "Requirement already satisfied: setuptools in /opt/miniconda3/lib/python3.13/site-packages (from torch>=1->torchxrayvision) (78.1.1)\n",
      "Requirement already satisfied: sympy>=1.13.3 in /opt/miniconda3/lib/python3.13/site-packages (from torch>=1->torchxrayvision) (1.14.0)\n",
      "Requirement already satisfied: jinja2 in /opt/miniconda3/lib/python3.13/site-packages (from torch>=1->torchxrayvision) (3.1.6)\n",
      "Requirement already satisfied: fsspec in /opt/miniconda3/lib/python3.13/site-packages (from torch>=1->torchxrayvision) (2025.5.1)\n",
      "Requirement already satisfied: mpmath<1.4,>=1.1.0 in /opt/miniconda3/lib/python3.13/site-packages (from sympy>=1.13.3->torch>=1->torchxrayvision) (1.3.0)\n",
      "Requirement already satisfied: MarkupSafe>=2.0 in /opt/miniconda3/lib/python3.13/site-packages (from jinja2->torch>=1->torchxrayvision) (3.0.2)\n"
     ]
    }
   ],
   "source": [
    "# Install TorchXrayVision Library\n",
    "!pip install torchxrayvision"
   ]
  },
  {
   "cell_type": "code",
   "execution_count": null,
   "metadata": {},
   "outputs": [
    {
     "name": "stdout",
     "output_type": "stream",
     "text": [
      "Downloading weights...\n",
      "If this fails you can run `wget https://github.com/mlmed/torchxrayvision/releases/download/v1/nih-pc-chex-mimic_ch-google-openi-kaggle-densenet121-d121-tw-lr001-rot45-tr15-sc15-seed0-best.pt -O /Users/zxm/.torchxrayvision/models_data/nih-pc-chex-mimic_ch-google-openi-kaggle-densenet121-d121-tw-lr001-rot45-tr15-sc15-seed0-best.pt`\n",
      "[██████████████████████████████████████████████████]\n",
      "Pathology predictions: {'Atelectasis': 0.59335405, 'Consolidation': 0.20981675, 'Infiltration': 0.5111733, 'Pneumothorax': 0.12437125, 'Edema': 0.0038453275, 'Emphysema': 0.5015795, 'Fibrosis': 0.552963, 'Effusion': 0.2678435, 'Pneumonia': 0.03613078, 'Pleural_Thickening': 0.5061362, 'Cardiomegaly': 0.5128063, 'Nodule': 0.50528204, 'Mass': 0.5004388, 'Hernia': 0.049883112, 'Lung Lesion': 0.002658099, 'Fracture': 0.5025822, 'Lung Opacity': 0.40879944, 'Enlarged Cardiomediastinum': 0.09676194}\n"
     ]
    },
    {
     "name": "stderr",
     "output_type": "stream",
     "text": [
      "[W NNPACK.cpp:53] Could not initialize NNPACK! Reason: Unsupported hardware.\n"
     ]
    }
   ],
   "source": [
    "# Basic chest X-ray classification example\n",
    "import torchxrayvision as xrv\n",
    "import skimage, torch, torchvision\n",
    "# Load and preprocess image\n",
    "img = skimage.io.imread('../data/xray.jpg')\n",
    "img = xrv.datasets.normalize(img, 255)\n",
    "img = img.mean(2)[None, ...]\n",
    "transform = torchvision.transforms.Compose([xrv.datasets.XRayCenterCrop(), xrv.datasets.XRayResizer(224)])\n",
    "img = transform(img)\n",
    "img = torch.from_numpy(img)\n",
    "# Load model and predict\n",
    "model = xrv.models.DenseNet(weights='densenet121-res224-all')\n",
    "outputs = model(img[None,...])\n",
    "results = dict(zip(model.pathologies, outputs[0].detach().numpy()))\n",
    "print('Pathology predictions:', results)"
   ]
  }
 ],
 "metadata": {
  "kernelspec": {
   "display_name": "base",
   "language": "python",
   "name": "python3"
  },
  "language_info": {
   "codemirror_mode": {
    "name": "ipython",
    "version": 3
   },
   "file_extension": ".py",
   "mimetype": "text/x-python",
   "name": "python",
   "nbconvert_exporter": "python",
   "pygments_lexer": "ipython3",
   "version": "3.13.5"
  }
 },
 "nbformat": 4,
 "nbformat_minor": 2
}

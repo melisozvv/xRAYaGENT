{
 "cells": [
  {
   "cell_type": "code",
   "execution_count": 1,
   "metadata": {},
   "outputs": [
    {
     "name": "stdout",
     "output_type": "stream",
     "text": [
      "Requirement already satisfied: cxas in /Users/zxm/miniconda3/lib/python3.9/site-packages (0.0.17)\n",
      "Requirement already satisfied: SimpleITK in /Users/zxm/miniconda3/lib/python3.9/site-packages (from cxas) (2.5.0)\n",
      "Requirement already satisfied: opencv-python in /Users/zxm/miniconda3/lib/python3.9/site-packages (from cxas) (4.9.0.80)\n",
      "Requirement already satisfied: numpy in /Users/zxm/miniconda3/lib/python3.9/site-packages (from cxas) (1.24.4)\n",
      "Requirement already satisfied: gdown in /Users/zxm/miniconda3/lib/python3.9/site-packages (from cxas) (5.2.0)\n",
      "Requirement already satisfied: torchvision in /Users/zxm/miniconda3/lib/python3.9/site-packages (from cxas) (0.17.2)\n",
      "Requirement already satisfied: pydicom-seg==0.4.1 in /Users/zxm/miniconda3/lib/python3.9/site-packages (from cxas) (0.4.1)\n",
      "Requirement already satisfied: scikit-learn in /Users/zxm/miniconda3/lib/python3.9/site-packages (from cxas) (1.2.2)\n",
      "Requirement already satisfied: colorcet in /Users/zxm/miniconda3/lib/python3.9/site-packages (from cxas) (3.1.0)\n",
      "Requirement already satisfied: pandas in /Users/zxm/miniconda3/lib/python3.9/site-packages (from cxas) (2.2.2)\n",
      "Requirement already satisfied: scikit-image in /Users/zxm/miniconda3/lib/python3.9/site-packages (from cxas) (0.21.0)\n",
      "Collecting pydicom==2.0.0\n",
      "  Using cached pydicom-2.0.0-py3-none-any.whl (35.4 MB)\n",
      "Requirement already satisfied: pycocotools in /Users/zxm/miniconda3/lib/python3.9/site-packages (from cxas) (2.0.8)\n",
      "Requirement already satisfied: tqdm in /Users/zxm/miniconda3/lib/python3.9/site-packages (from cxas) (4.66.4)\n",
      "Requirement already satisfied: torch in /Users/zxm/miniconda3/lib/python3.9/site-packages (from cxas) (2.2.2)\n",
      "Requirement already satisfied: cython in /Users/zxm/miniconda3/lib/python3.9/site-packages (from cxas) (3.0.11)\n",
      "Requirement already satisfied: jsonschema<4.0.0,>=3.2.0 in /Users/zxm/miniconda3/lib/python3.9/site-packages (from pydicom-seg==0.4.1->cxas) (3.2.0)\n",
      "Requirement already satisfied: attrs>=17.4.0 in /Users/zxm/miniconda3/lib/python3.9/site-packages (from jsonschema<4.0.0,>=3.2.0->pydicom-seg==0.4.1->cxas) (25.3.0)\n",
      "Requirement already satisfied: pyrsistent>=0.14.0 in /Users/zxm/miniconda3/lib/python3.9/site-packages (from jsonschema<4.0.0,>=3.2.0->pydicom-seg==0.4.1->cxas) (0.19.3)\n",
      "Requirement already satisfied: setuptools in /Users/zxm/miniconda3/lib/python3.9/site-packages (from jsonschema<4.0.0,>=3.2.0->pydicom-seg==0.4.1->cxas) (68.0.0)\n",
      "Requirement already satisfied: six>=1.11.0 in /Users/zxm/miniconda3/lib/python3.9/site-packages (from jsonschema<4.0.0,>=3.2.0->pydicom-seg==0.4.1->cxas) (1.16.0)\n",
      "Requirement already satisfied: beautifulsoup4 in /Users/zxm/miniconda3/lib/python3.9/site-packages (from gdown->cxas) (4.12.0)\n",
      "Requirement already satisfied: filelock in /Users/zxm/miniconda3/lib/python3.9/site-packages (from gdown->cxas) (3.8.0)\n",
      "Requirement already satisfied: requests[socks] in /Users/zxm/miniconda3/lib/python3.9/site-packages (from gdown->cxas) (2.32.3)\n",
      "Requirement already satisfied: soupsieve>1.2 in /Users/zxm/miniconda3/lib/python3.9/site-packages (from beautifulsoup4->gdown->cxas) (2.4)\n",
      "Requirement already satisfied: tzdata>=2022.7 in /Users/zxm/miniconda3/lib/python3.9/site-packages/tzdata-2023.3-py3.9.egg (from pandas->cxas) (2023.3)\n",
      "Requirement already satisfied: python-dateutil>=2.8.2 in /Users/zxm/miniconda3/lib/python3.9/site-packages (from pandas->cxas) (2.8.2)\n",
      "Requirement already satisfied: pytz>=2020.1 in /Users/zxm/miniconda3/lib/python3.9/site-packages (from pandas->cxas) (2022.2.1)\n",
      "Requirement already satisfied: matplotlib>=2.1.0 in /Users/zxm/miniconda3/lib/python3.9/site-packages (from pycocotools->cxas) (3.9.4)\n",
      "Requirement already satisfied: contourpy>=1.0.1 in /Users/zxm/miniconda3/lib/python3.9/site-packages (from matplotlib>=2.1.0->pycocotools->cxas) (1.0.5)\n",
      "Requirement already satisfied: packaging>=20.0 in /Users/zxm/miniconda3/lib/python3.9/site-packages (from matplotlib>=2.1.0->pycocotools->cxas) (24.1)\n",
      "Requirement already satisfied: kiwisolver>=1.3.1 in /Users/zxm/miniconda3/lib/python3.9/site-packages (from matplotlib>=2.1.0->pycocotools->cxas) (1.4.4)\n",
      "Requirement already satisfied: pillow>=8 in /Users/zxm/miniconda3/lib/python3.9/site-packages (from matplotlib>=2.1.0->pycocotools->cxas) (9.4.0)\n",
      "Requirement already satisfied: cycler>=0.10 in /Users/zxm/miniconda3/lib/python3.9/site-packages (from matplotlib>=2.1.0->pycocotools->cxas) (0.11.0)\n",
      "Requirement already satisfied: pyparsing>=2.3.1 in /Users/zxm/miniconda3/lib/python3.9/site-packages (from matplotlib>=2.1.0->pycocotools->cxas) (2.4.7)\n",
      "Requirement already satisfied: fonttools>=4.22.0 in /Users/zxm/miniconda3/lib/python3.9/site-packages (from matplotlib>=2.1.0->pycocotools->cxas) (4.38.0)\n",
      "Requirement already satisfied: importlib-resources>=3.2.0 in /Users/zxm/miniconda3/lib/python3.9/site-packages (from matplotlib>=2.1.0->pycocotools->cxas) (6.4.5)\n",
      "Requirement already satisfied: zipp>=3.1.0 in /Users/zxm/miniconda3/lib/python3.9/site-packages (from importlib-resources>=3.2.0->matplotlib>=2.1.0->pycocotools->cxas) (3.21.0)\n",
      "Requirement already satisfied: idna<4,>=2.5 in /Users/zxm/miniconda3/lib/python3.9/site-packages (from requests[socks]->gdown->cxas) (3.4)\n",
      "Requirement already satisfied: charset-normalizer<4,>=2 in /Users/zxm/miniconda3/lib/python3.9/site-packages (from requests[socks]->gdown->cxas) (2.0.4)\n",
      "Requirement already satisfied: urllib3<3,>=1.21.1 in /Users/zxm/miniconda3/lib/python3.9/site-packages (from requests[socks]->gdown->cxas) (2.4.0)\n",
      "Requirement already satisfied: certifi>=2017.4.17 in /Users/zxm/miniconda3/lib/python3.9/site-packages (from requests[socks]->gdown->cxas) (2023.7.22)\n",
      "Requirement already satisfied: PySocks!=1.5.7,>=1.5.6 in /Users/zxm/miniconda3/lib/python3.9/site-packages (from requests[socks]->gdown->cxas) (1.7.1)\n",
      "Requirement already satisfied: networkx>=2.8 in /Users/zxm/miniconda3/lib/python3.9/site-packages (from scikit-image->cxas) (3.2.1)\n",
      "Requirement already satisfied: tifffile>=2022.8.12 in /Users/zxm/miniconda3/lib/python3.9/site-packages (from scikit-image->cxas) (2024.8.30)\n",
      "Requirement already satisfied: lazy_loader>=0.2 in /Users/zxm/miniconda3/lib/python3.9/site-packages (from scikit-image->cxas) (0.4)\n",
      "Requirement already satisfied: scipy>=1.8 in /Users/zxm/miniconda3/lib/python3.9/site-packages (from scikit-image->cxas) (1.11.1)\n",
      "Requirement already satisfied: imageio>=2.27 in /Users/zxm/miniconda3/lib/python3.9/site-packages (from scikit-image->cxas) (2.33.0)\n",
      "Requirement already satisfied: PyWavelets>=1.1.1 in /Users/zxm/miniconda3/lib/python3.9/site-packages (from scikit-image->cxas) (1.6.0)\n",
      "Requirement already satisfied: threadpoolctl>=2.0.0 in /Users/zxm/miniconda3/lib/python3.9/site-packages (from scikit-learn->cxas) (3.1.0)\n",
      "Requirement already satisfied: joblib>=1.1.1 in /Users/zxm/miniconda3/lib/python3.9/site-packages (from scikit-learn->cxas) (1.3.0)\n",
      "Requirement already satisfied: typing-extensions>=4.8.0 in /Users/zxm/miniconda3/lib/python3.9/site-packages (from torch->cxas) (4.12.2)\n",
      "Requirement already satisfied: fsspec in /Users/zxm/miniconda3/lib/python3.9/site-packages (from torch->cxas) (2024.3.1)\n",
      "Requirement already satisfied: sympy in /Users/zxm/miniconda3/lib/python3.9/site-packages (from torch->cxas) (1.14.0)\n",
      "Requirement already satisfied: jinja2 in /Users/zxm/miniconda3/lib/python3.9/site-packages (from torch->cxas) (3.1.2)\n",
      "Requirement already satisfied: MarkupSafe>=2.0 in /Users/zxm/miniconda3/lib/python3.9/site-packages (from jinja2->torch->cxas) (2.1.2)\n",
      "Requirement already satisfied: mpmath<1.4,>=1.1.0 in /Users/zxm/miniconda3/lib/python3.9/site-packages (from sympy->torch->cxas) (1.3.0)\n",
      "Installing collected packages: pydicom\n",
      "  Attempting uninstall: pydicom\n",
      "    Found existing installation: pydicom 2.4.4\n",
      "    Uninstalling pydicom-2.4.4:\n",
      "      Successfully uninstalled pydicom-2.4.4\n",
      "\u001b[31mERROR: pip's dependency resolver does not currently take into account all the packages that are installed. This behaviour is the source of the following dependency conflicts.\n",
      "dicom2nifti 2.4.10 requires pydicom>=2.2.0, but you have pydicom 2.0.0 which is incompatible.\u001b[0m\n",
      "Successfully installed pydicom-2.0.0\n"
     ]
    }
   ],
   "source": [
    "!pip install cxas"
   ]
  },
  {
   "cell_type": "code",
   "execution_count": 1,
   "metadata": {},
   "outputs": [
    {
     "name": "stdout",
     "output_type": "stream",
     "text": [
      "2.2.2\n"
     ]
    }
   ],
   "source": [
    "import torch\n",
    "print(torch.__version__)"
   ]
  },
  {
   "cell_type": "code",
   "execution_count": 5,
   "metadata": {},
   "outputs": [
    {
     "name": "stdout",
     "output_type": "stream",
     "text": [
      "Intel MKL WARNING: Support of Intel(R) Streaming SIMD Extensions 4.2 (Intel(R) SSE4.2) enabled only processors has been deprecated. Intel oneAPI Math Kernel Library 2025.0 will require Intel(R) Advanced Vector Extensions (Intel(R) AVX) instructions.\n",
      "Intel MKL WARNING: Support of Intel(R) Streaming SIMD Extensions 4.2 (Intel(R) SSE4.2) enabled only processors has been deprecated. Intel oneAPI Math Kernel Library 2025.0 will require Intel(R) Advanced Vector Extensions (Intel(R) AVX) instructions.\n",
      "2025-06-08 13:56:04,035 - INFO - Processing file: ../data/xray.jpg...\n",
      "2025-06-08 13:56:09,978 - INFO - Segmentation completed. Results stored in: ../output\n"
     ]
    }
   ],
   "source": [
    "!cxas_segment -i ../data/xray.jpg -o ../output/ -ot png -g cpu"
   ]
  },
  {
   "cell_type": "code",
   "execution_count": null,
   "metadata": {},
   "outputs": [],
   "source": []
  }
 ],
 "metadata": {
  "kernelspec": {
   "display_name": "base",
   "language": "python",
   "name": "python3"
  },
  "language_info": {
   "codemirror_mode": {
    "name": "ipython",
    "version": 3
   },
   "file_extension": ".py",
   "mimetype": "text/x-python",
   "name": "python",
   "nbconvert_exporter": "python",
   "pygments_lexer": "ipython3",
   "version": "3.9.18"
  }
 },
 "nbformat": 4,
 "nbformat_minor": 2
}

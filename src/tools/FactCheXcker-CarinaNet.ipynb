{
 "cells": [
  {
   "cell_type": "code",
   "execution_count": 2,
   "metadata": {},
   "outputs": [
    {
     "name": "stdout",
     "output_type": "stream",
     "text": [
      "Requirement already satisfied: factchexcker-carinanet in /opt/miniconda3/lib/python3.13/site-packages (1.1.0)\n",
      "Requirement already satisfied: torch>=1.9.0 in /opt/miniconda3/lib/python3.13/site-packages (from factchexcker-carinanet) (2.7.1)\n",
      "Requirement already satisfied: torchvision>=0.10.0 in /opt/miniconda3/lib/python3.13/site-packages (from factchexcker-carinanet) (0.22.1)\n",
      "Requirement already satisfied: Pillow>=8.0.0 in /opt/miniconda3/lib/python3.13/site-packages (from factchexcker-carinanet) (11.3.0)\n",
      "Requirement already satisfied: numpy>=1.19.0 in /opt/miniconda3/lib/python3.13/site-packages (from factchexcker-carinanet) (2.3.1)\n",
      "Requirement already satisfied: requests>=2.25.0 in /opt/miniconda3/lib/python3.13/site-packages (from factchexcker-carinanet) (2.32.3)\n",
      "Requirement already satisfied: tqdm>=4.60.0 in /opt/miniconda3/lib/python3.13/site-packages (from factchexcker-carinanet) (4.67.1)\n",
      "Requirement already satisfied: kwcoco>=0.2.0 in /opt/miniconda3/lib/python3.13/site-packages (from factchexcker-carinanet) (0.8.7)\n",
      "Requirement already satisfied: pandas>=1.3.0 in /opt/miniconda3/lib/python3.13/site-packages (from factchexcker-carinanet) (2.3.0)\n",
      "Requirement already satisfied: scikit-image>=0.18.0 in /opt/miniconda3/lib/python3.13/site-packages (from factchexcker-carinanet) (0.25.2)\n",
      "Requirement already satisfied: pycocotools>=2.0.0 in /opt/miniconda3/lib/python3.13/site-packages (from factchexcker-carinanet) (2.0.10)\n",
      "Requirement already satisfied: huggingface_hub>=0.15.0 in /opt/miniconda3/lib/python3.13/site-packages (from factchexcker-carinanet) (0.33.2)\n",
      "Requirement already satisfied: filelock in /opt/miniconda3/lib/python3.13/site-packages (from huggingface_hub>=0.15.0->factchexcker-carinanet) (3.18.0)\n",
      "Requirement already satisfied: fsspec>=2023.5.0 in /opt/miniconda3/lib/python3.13/site-packages (from huggingface_hub>=0.15.0->factchexcker-carinanet) (2025.5.1)\n",
      "Requirement already satisfied: packaging>=20.9 in /opt/miniconda3/lib/python3.13/site-packages (from huggingface_hub>=0.15.0->factchexcker-carinanet) (24.2)\n",
      "Requirement already satisfied: pyyaml>=5.1 in /opt/miniconda3/lib/python3.13/site-packages (from huggingface_hub>=0.15.0->factchexcker-carinanet) (6.0.2)\n",
      "Requirement already satisfied: typing-extensions>=3.7.4.3 in /opt/miniconda3/lib/python3.13/site-packages (from huggingface_hub>=0.15.0->factchexcker-carinanet) (4.12.2)\n",
      "Requirement already satisfied: hf-xet<2.0.0,>=1.1.2 in /opt/miniconda3/lib/python3.13/site-packages (from huggingface_hub>=0.15.0->factchexcker-carinanet) (1.1.5)\n",
      "Requirement already satisfied: delayed_image>=0.4.2 in /opt/miniconda3/lib/python3.13/site-packages (from kwcoco>=0.2.0->factchexcker-carinanet) (0.4.5)\n",
      "Requirement already satisfied: jsonschema>=3.2.0 in /opt/miniconda3/lib/python3.13/site-packages (from kwcoco>=0.2.0->factchexcker-carinanet) (3.2.0)\n",
      "Requirement already satisfied: kwarray>=0.6.19 in /opt/miniconda3/lib/python3.13/site-packages (from kwcoco>=0.2.0->factchexcker-carinanet) (0.7.1)\n",
      "Requirement already satisfied: kwimage>=0.11.1 in /opt/miniconda3/lib/python3.13/site-packages (from kwcoco>=0.2.0->factchexcker-carinanet) (0.11.2)\n",
      "Requirement already satisfied: parse>=1.19.0 in /opt/miniconda3/lib/python3.13/site-packages (from kwcoco>=0.2.0->factchexcker-carinanet) (1.20.2)\n",
      "Requirement already satisfied: safer>=4.4.1 in /opt/miniconda3/lib/python3.13/site-packages (from kwcoco>=0.2.0->factchexcker-carinanet) (5.1.0)\n",
      "Requirement already satisfied: scriptconfig>=0.7.10 in /opt/miniconda3/lib/python3.13/site-packages (from kwcoco>=0.2.0->factchexcker-carinanet) (0.8.2)\n",
      "Requirement already satisfied: sortedcontainers>=2.3.0 in /opt/miniconda3/lib/python3.13/site-packages (from kwcoco>=0.2.0->factchexcker-carinanet) (2.4.0)\n",
      "Requirement already satisfied: ubelt>=1.3.6 in /opt/miniconda3/lib/python3.13/site-packages (from kwcoco>=0.2.0->factchexcker-carinanet) (1.3.7)\n",
      "Requirement already satisfied: uritools>=3.0.0 in /opt/miniconda3/lib/python3.13/site-packages (from kwcoco>=0.2.0->factchexcker-carinanet) (5.0.0)\n",
      "Requirement already satisfied: xarray>=2023.10.0 in /opt/miniconda3/lib/python3.13/site-packages (from kwcoco>=0.2.0->factchexcker-carinanet) (2025.7.0)\n",
      "Requirement already satisfied: networkx>=2.8 in /opt/miniconda3/lib/python3.13/site-packages (from kwcoco>=0.2.0->factchexcker-carinanet) (3.5)\n",
      "Requirement already satisfied: scipy>=1.11.2 in /opt/miniconda3/lib/python3.13/site-packages (from kwcoco>=0.2.0->factchexcker-carinanet) (1.16.0)\n",
      "Requirement already satisfied: scikit-learn>=1.3.1 in /opt/miniconda3/lib/python3.13/site-packages (from kwcoco>=0.2.0->factchexcker-carinanet) (1.7.0)\n",
      "Requirement already satisfied: psutil>=5.9.6 in /opt/miniconda3/lib/python3.13/site-packages (from kwcoco>=0.2.0->factchexcker-carinanet) (7.0.0)\n",
      "Requirement already satisfied: rich>=12.3.0 in /opt/miniconda3/lib/python3.13/site-packages (from kwcoco>=0.2.0->factchexcker-carinanet) (13.9.4)\n",
      "Requirement already satisfied: affine>=2.3.0 in /opt/miniconda3/lib/python3.13/site-packages (from delayed_image>=0.4.2->kwcoco>=0.2.0->factchexcker-carinanet) (2.4.0)\n",
      "Requirement already satisfied: attrs>=17.4.0 in /opt/miniconda3/lib/python3.13/site-packages (from jsonschema>=3.2.0->kwcoco>=0.2.0->factchexcker-carinanet) (25.3.0)\n",
      "Requirement already satisfied: pyrsistent>=0.14.0 in /opt/miniconda3/lib/python3.13/site-packages (from jsonschema>=3.2.0->kwcoco>=0.2.0->factchexcker-carinanet) (0.20.0)\n",
      "Requirement already satisfied: setuptools in /opt/miniconda3/lib/python3.13/site-packages (from jsonschema>=3.2.0->kwcoco>=0.2.0->factchexcker-carinanet) (78.1.1)\n",
      "Requirement already satisfied: six>=1.11.0 in /opt/miniconda3/lib/python3.13/site-packages (from jsonschema>=3.2.0->kwcoco>=0.2.0->factchexcker-carinanet) (1.17.0)\n",
      "Requirement already satisfied: shapely>=2.0.6 in /opt/miniconda3/lib/python3.13/site-packages (from kwimage>=0.11.1->kwcoco>=0.2.0->factchexcker-carinanet) (2.1.1)\n",
      "Requirement already satisfied: distinctipy>=1.2.1 in /opt/miniconda3/lib/python3.13/site-packages (from kwimage>=0.11.1->kwcoco>=0.2.0->factchexcker-carinanet) (1.3.4)\n",
      "Requirement already satisfied: lazy_loader>=0.4 in /opt/miniconda3/lib/python3.13/site-packages (from kwimage>=0.11.1->kwcoco>=0.2.0->factchexcker-carinanet) (0.4)\n",
      "Requirement already satisfied: python-dateutil>=2.8.2 in /opt/miniconda3/lib/python3.13/site-packages (from pandas>=1.3.0->factchexcker-carinanet) (2.9.0.post0)\n",
      "Requirement already satisfied: pytz>=2020.1 in /opt/miniconda3/lib/python3.13/site-packages (from pandas>=1.3.0->factchexcker-carinanet) (2025.2)\n",
      "Requirement already satisfied: tzdata>=2022.7 in /opt/miniconda3/lib/python3.13/site-packages (from pandas>=1.3.0->factchexcker-carinanet) (2025.2)\n",
      "Requirement already satisfied: charset-normalizer<4,>=2 in /opt/miniconda3/lib/python3.13/site-packages (from requests>=2.25.0->factchexcker-carinanet) (3.3.2)\n",
      "Requirement already satisfied: idna<4,>=2.5 in /opt/miniconda3/lib/python3.13/site-packages (from requests>=2.25.0->factchexcker-carinanet) (3.7)\n",
      "Requirement already satisfied: urllib3<3,>=1.21.1 in /opt/miniconda3/lib/python3.13/site-packages (from requests>=2.25.0->factchexcker-carinanet) (2.3.0)\n",
      "Requirement already satisfied: certifi>=2017.4.17 in /opt/miniconda3/lib/python3.13/site-packages (from requests>=2.25.0->factchexcker-carinanet) (2025.6.15)\n",
      "Requirement already satisfied: markdown-it-py>=2.2.0 in /opt/miniconda3/lib/python3.13/site-packages (from rich>=12.3.0->kwcoco>=0.2.0->factchexcker-carinanet) (2.2.0)\n",
      "Requirement already satisfied: pygments<3.0.0,>=2.13.0 in /opt/miniconda3/lib/python3.13/site-packages (from rich>=12.3.0->kwcoco>=0.2.0->factchexcker-carinanet) (2.19.1)\n",
      "Requirement already satisfied: mdurl~=0.1 in /opt/miniconda3/lib/python3.13/site-packages (from markdown-it-py>=2.2.0->rich>=12.3.0->kwcoco>=0.2.0->factchexcker-carinanet) (0.1.0)\n",
      "Requirement already satisfied: imageio!=2.35.0,>=2.33 in /opt/miniconda3/lib/python3.13/site-packages (from scikit-image>=0.18.0->factchexcker-carinanet) (2.37.0)\n",
      "Requirement already satisfied: tifffile>=2022.8.12 in /opt/miniconda3/lib/python3.13/site-packages (from scikit-image>=0.18.0->factchexcker-carinanet) (2025.6.11)\n",
      "Requirement already satisfied: joblib>=1.2.0 in /opt/miniconda3/lib/python3.13/site-packages (from scikit-learn>=1.3.1->kwcoco>=0.2.0->factchexcker-carinanet) (1.5.1)\n",
      "Requirement already satisfied: threadpoolctl>=3.1.0 in /opt/miniconda3/lib/python3.13/site-packages (from scikit-learn>=1.3.1->kwcoco>=0.2.0->factchexcker-carinanet) (3.6.0)\n",
      "Requirement already satisfied: sympy>=1.13.3 in /opt/miniconda3/lib/python3.13/site-packages (from torch>=1.9.0->factchexcker-carinanet) (1.14.0)\n",
      "Requirement already satisfied: jinja2 in /opt/miniconda3/lib/python3.13/site-packages (from torch>=1.9.0->factchexcker-carinanet) (3.1.6)\n",
      "Requirement already satisfied: mpmath<1.4,>=1.1.0 in /opt/miniconda3/lib/python3.13/site-packages (from sympy>=1.13.3->torch>=1.9.0->factchexcker-carinanet) (1.3.0)\n",
      "Requirement already satisfied: MarkupSafe>=2.0 in /opt/miniconda3/lib/python3.13/site-packages (from jinja2->torch>=1.9.0->factchexcker-carinanet) (3.0.2)\n"
     ]
    }
   ],
   "source": [
    "!pip install factchexcker-carinanet"
   ]
  },
  {
   "cell_type": "code",
   "execution_count": 9,
   "metadata": {},
   "outputs": [
    {
     "name": "stdout",
     "output_type": "stream",
     "text": [
      "Using bundled model\n",
      "Loading checkpoint from /Users/zxm/miniconda3/lib/python3.9/site-packages/carinanet/models/model.pt ...\n",
      "Finished loading\n",
      "{'carina': (335.0, 296.0), 'carina_confidence': 0.23137962818145752, 'ett': (323.5, 221.0), 'ett_confidence': 0.22834624350070953}\n"
     ]
    }
   ],
   "source": [
    "import carinanet\n",
    "\n",
    "# Use the correct class name and method\n",
    "model = carinanet.CarinaNetModel()\n",
    "results = model.predict('../data/xray.jpg')\n",
    "print(results)\n"
   ]
  },
  {
   "cell_type": "code",
   "execution_count": 10,
   "metadata": {},
   "outputs": [
    {
     "data": {
      "text/plain": [
       "{'carina': (335.0, 296.0),\n",
       " 'carina_confidence': 0.23137962818145752,\n",
       " 'ett': (323.5, 221.0),\n",
       " 'ett_confidence': 0.22834624350070953}"
      ]
     },
     "execution_count": 10,
     "metadata": {},
     "output_type": "execute_result"
    }
   ],
   "source": [
    "results"
   ]
  }
 ],
 "metadata": {
  "kernelspec": {
   "display_name": "base",
   "language": "python",
   "name": "python3"
  },
  "language_info": {
   "codemirror_mode": {
    "name": "ipython",
    "version": 3
   },
   "file_extension": ".py",
   "mimetype": "text/x-python",
   "name": "python",
   "nbconvert_exporter": "python",
   "pygments_lexer": "ipython3",
   "version": "3.13.5"
  }
 },
 "nbformat": 4,
 "nbformat_minor": 2
}

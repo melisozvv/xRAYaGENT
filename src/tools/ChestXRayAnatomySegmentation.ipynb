{
 "cells": [
  {
   "cell_type": "code",
   "execution_count": 1,
   "metadata": {},
   "outputs": [
    {
     "name": "stdout",
     "output_type": "stream",
     "text": [
      "Collecting cxas\n",
      "  Downloading cxas-0.0.17-py3-none-any.whl.metadata (3.4 kB)\n",
      "Collecting cython (from cxas)\n",
      "  Downloading cython-3.1.2-cp313-cp313-macosx_11_0_arm64.whl.metadata (5.9 kB)\n",
      "Requirement already satisfied: torch in /opt/miniconda3/lib/python3.13/site-packages (from cxas) (2.7.1)\n",
      "Collecting gdown (from cxas)\n",
      "  Downloading gdown-5.2.0-py3-none-any.whl.metadata (5.8 kB)\n",
      "Requirement already satisfied: torchvision in /opt/miniconda3/lib/python3.13/site-packages (from cxas) (0.22.1)\n",
      "Requirement already satisfied: numpy in /opt/miniconda3/lib/python3.13/site-packages (from cxas) (2.3.1)\n",
      "Collecting SimpleITK (from cxas)\n",
      "  Downloading simpleitk-2.5.2-cp311-abi3-macosx_11_0_arm64.whl.metadata (7.2 kB)\n",
      "Collecting pydicom==2.0.0 (from cxas)\n",
      "  Downloading pydicom-2.0.0-py3-none-any.whl.metadata (4.1 kB)\n",
      "Collecting pydicom-seg==0.4.1 (from cxas)\n",
      "  Downloading pydicom_seg-0.4.1-py3-none-any.whl.metadata (5.2 kB)\n",
      "Requirement already satisfied: scikit-image in /opt/miniconda3/lib/python3.13/site-packages (from cxas) (0.25.2)\n",
      "Collecting scikit-learn (from cxas)\n",
      "  Downloading scikit_learn-1.7.0-cp313-cp313-macosx_12_0_arm64.whl.metadata (31 kB)\n",
      "Collecting opencv-python (from cxas)\n",
      "  Downloading opencv_python-4.12.0.88-cp37-abi3-macosx_13_0_arm64.whl.metadata (19 kB)\n",
      "Collecting colorcet (from cxas)\n",
      "  Downloading colorcet-3.1.0-py3-none-any.whl.metadata (6.3 kB)\n",
      "Collecting pycocotools (from cxas)\n",
      "  Downloading pycocotools-2.0.10-cp312-abi3-macosx_10_13_universal2.whl.metadata (1.3 kB)\n",
      "Requirement already satisfied: pandas in /opt/miniconda3/lib/python3.13/site-packages (from cxas) (2.3.0)\n",
      "Requirement already satisfied: tqdm in /opt/miniconda3/lib/python3.13/site-packages (from cxas) (4.67.1)\n",
      "Collecting jsonschema<4.0.0,>=3.2.0 (from pydicom-seg==0.4.1->cxas)\n",
      "  Downloading jsonschema-3.2.0-py2.py3-none-any.whl.metadata (7.8 kB)\n",
      "Collecting numpy (from cxas)\n",
      "  Downloading numpy-1.26.4.tar.gz (15.8 MB)\n",
      "\u001b[2K     \u001b[90m━━━━━━━━━━━━━━━━━━━━━━━━━━━━━━━━━━━━━━━━\u001b[0m \u001b[32m15.8/15.8 MB\u001b[0m \u001b[31m21.6 MB/s\u001b[0m eta \u001b[36m0:00:00\u001b[0ma \u001b[36m0:00:01\u001b[0m\n",
      "\u001b[?25h  Installing build dependencies ... \u001b[?25ldone\n",
      "\u001b[?25h  Getting requirements to build wheel ... \u001b[?25ldone\n",
      "\u001b[?25h  Installing backend dependencies ... \u001b[?25ldone\n",
      "\u001b[?25h  Preparing metadata (pyproject.toml) ... \u001b[?25ldone\n",
      "\u001b[?25hCollecting attrs>=17.4.0 (from jsonschema<4.0.0,>=3.2.0->pydicom-seg==0.4.1->cxas)\n",
      "  Downloading attrs-25.3.0-py3-none-any.whl.metadata (10 kB)\n",
      "Collecting pyrsistent>=0.14.0 (from jsonschema<4.0.0,>=3.2.0->pydicom-seg==0.4.1->cxas)\n",
      "  Downloading pyrsistent-0.20.0-py3-none-any.whl.metadata (27 kB)\n",
      "Requirement already satisfied: setuptools in /opt/miniconda3/lib/python3.13/site-packages (from jsonschema<4.0.0,>=3.2.0->pydicom-seg==0.4.1->cxas) (78.1.1)\n",
      "Requirement already satisfied: six>=1.11.0 in /opt/miniconda3/lib/python3.13/site-packages (from jsonschema<4.0.0,>=3.2.0->pydicom-seg==0.4.1->cxas) (1.17.0)\n",
      "Collecting beautifulsoup4 (from gdown->cxas)\n",
      "  Downloading beautifulsoup4-4.13.4-py3-none-any.whl.metadata (3.8 kB)\n",
      "Requirement already satisfied: filelock in /opt/miniconda3/lib/python3.13/site-packages (from gdown->cxas) (3.18.0)\n",
      "Requirement already satisfied: requests[socks] in /opt/miniconda3/lib/python3.13/site-packages (from gdown->cxas) (2.32.3)\n",
      "Collecting soupsieve>1.2 (from beautifulsoup4->gdown->cxas)\n",
      "  Downloading soupsieve-2.7-py3-none-any.whl.metadata (4.6 kB)\n",
      "Requirement already satisfied: typing-extensions>=4.0.0 in /opt/miniconda3/lib/python3.13/site-packages (from beautifulsoup4->gdown->cxas) (4.12.2)\n",
      "INFO: pip is looking at multiple versions of opencv-python to determine which version is compatible with other requirements. This could take a while.\n",
      "Collecting opencv-python (from cxas)\n",
      "  Downloading opencv_python-4.11.0.86-cp37-abi3-macosx_13_0_arm64.whl.metadata (20 kB)\n",
      "Requirement already satisfied: python-dateutil>=2.8.2 in /opt/miniconda3/lib/python3.13/site-packages (from pandas->cxas) (2.9.0.post0)\n",
      "Requirement already satisfied: pytz>=2020.1 in /opt/miniconda3/lib/python3.13/site-packages (from pandas->cxas) (2025.2)\n",
      "Requirement already satisfied: tzdata>=2022.7 in /opt/miniconda3/lib/python3.13/site-packages (from pandas->cxas) (2025.2)\n",
      "Requirement already satisfied: charset-normalizer<4,>=2 in /opt/miniconda3/lib/python3.13/site-packages (from requests[socks]->gdown->cxas) (3.3.2)\n",
      "Requirement already satisfied: idna<4,>=2.5 in /opt/miniconda3/lib/python3.13/site-packages (from requests[socks]->gdown->cxas) (3.7)\n",
      "Requirement already satisfied: urllib3<3,>=1.21.1 in /opt/miniconda3/lib/python3.13/site-packages (from requests[socks]->gdown->cxas) (2.3.0)\n",
      "Requirement already satisfied: certifi>=2017.4.17 in /opt/miniconda3/lib/python3.13/site-packages (from requests[socks]->gdown->cxas) (2025.6.15)\n",
      "Requirement already satisfied: PySocks!=1.5.7,>=1.5.6 in /opt/miniconda3/lib/python3.13/site-packages (from requests[socks]->gdown->cxas) (1.7.1)\n",
      "Requirement already satisfied: scipy>=1.11.4 in /opt/miniconda3/lib/python3.13/site-packages (from scikit-image->cxas) (1.16.0)\n",
      "Requirement already satisfied: networkx>=3.0 in /opt/miniconda3/lib/python3.13/site-packages (from scikit-image->cxas) (3.5)\n",
      "Requirement already satisfied: pillow>=10.1 in /opt/miniconda3/lib/python3.13/site-packages (from scikit-image->cxas) (11.3.0)\n",
      "Requirement already satisfied: imageio!=2.35.0,>=2.33 in /opt/miniconda3/lib/python3.13/site-packages (from scikit-image->cxas) (2.37.0)\n",
      "Requirement already satisfied: tifffile>=2022.8.12 in /opt/miniconda3/lib/python3.13/site-packages (from scikit-image->cxas) (2025.6.11)\n",
      "Requirement already satisfied: packaging>=21 in /opt/miniconda3/lib/python3.13/site-packages (from scikit-image->cxas) (24.2)\n",
      "Requirement already satisfied: lazy-loader>=0.4 in /opt/miniconda3/lib/python3.13/site-packages (from scikit-image->cxas) (0.4)\n",
      "Collecting joblib>=1.2.0 (from scikit-learn->cxas)\n",
      "  Downloading joblib-1.5.1-py3-none-any.whl.metadata (5.6 kB)\n",
      "Collecting threadpoolctl>=3.1.0 (from scikit-learn->cxas)\n",
      "  Downloading threadpoolctl-3.6.0-py3-none-any.whl.metadata (13 kB)\n",
      "Requirement already satisfied: sympy>=1.13.3 in /opt/miniconda3/lib/python3.13/site-packages (from torch->cxas) (1.14.0)\n",
      "Requirement already satisfied: jinja2 in /opt/miniconda3/lib/python3.13/site-packages (from torch->cxas) (3.1.6)\n",
      "Requirement already satisfied: fsspec in /opt/miniconda3/lib/python3.13/site-packages (from torch->cxas) (2025.5.1)\n",
      "Requirement already satisfied: mpmath<1.4,>=1.1.0 in /opt/miniconda3/lib/python3.13/site-packages (from sympy>=1.13.3->torch->cxas) (1.3.0)\n",
      "Requirement already satisfied: MarkupSafe>=2.0 in /opt/miniconda3/lib/python3.13/site-packages (from jinja2->torch->cxas) (3.0.2)\n",
      "Downloading cxas-0.0.17-py3-none-any.whl (41 kB)\n",
      "Downloading pydicom-2.0.0-py3-none-any.whl (35.4 MB)\n",
      "\u001b[2K   \u001b[90m━━━━━━━━━━━━━━━━━━━━━━━━━━━━━━━━━━━━━━━━\u001b[0m \u001b[32m35.4/35.4 MB\u001b[0m \u001b[31m19.4 MB/s\u001b[0m eta \u001b[36m0:00:00\u001b[0ma \u001b[36m0:00:01\u001b[0m\n",
      "\u001b[?25hDownloading pydicom_seg-0.4.1-py3-none-any.whl (27 kB)\n",
      "Downloading jsonschema-3.2.0-py2.py3-none-any.whl (56 kB)\n",
      "Downloading attrs-25.3.0-py3-none-any.whl (63 kB)\n",
      "Downloading pyrsistent-0.20.0-py3-none-any.whl (58 kB)\n",
      "Downloading simpleitk-2.5.2-cp311-abi3-macosx_11_0_arm64.whl (38.5 MB)\n",
      "\u001b[2K   \u001b[90m━━━━━━━━━━━━━━━━━━━━━━━━━━━━━━━━━━━━━━━━\u001b[0m \u001b[32m38.5/38.5 MB\u001b[0m \u001b[31m18.7 MB/s\u001b[0m eta \u001b[36m0:00:00\u001b[0m00:01\u001b[0m00:01\u001b[0m\n",
      "\u001b[?25hDownloading colorcet-3.1.0-py3-none-any.whl (260 kB)\n",
      "Downloading cython-3.1.2-cp313-cp313-macosx_11_0_arm64.whl (2.8 MB)\n",
      "\u001b[2K   \u001b[90m━━━━━━━━━━━━━━━━━━━━━━━━━━━━━━━━━━━━━━━━\u001b[0m \u001b[32m2.8/2.8 MB\u001b[0m \u001b[31m15.7 MB/s\u001b[0m eta \u001b[36m0:00:00\u001b[0m\n",
      "\u001b[?25hDownloading gdown-5.2.0-py3-none-any.whl (18 kB)\n",
      "Downloading beautifulsoup4-4.13.4-py3-none-any.whl (187 kB)\n",
      "Downloading soupsieve-2.7-py3-none-any.whl (36 kB)\n",
      "Downloading opencv_python-4.11.0.86-cp37-abi3-macosx_13_0_arm64.whl (37.3 MB)\n",
      "\u001b[2K   \u001b[90m━━━━━━━━━━━━━━━━━━━━━━━━━━━━━━━━━━━━━━━━\u001b[0m \u001b[32m37.3/37.3 MB\u001b[0m \u001b[31m18.4 MB/s\u001b[0m eta \u001b[36m0:00:00\u001b[0ma \u001b[36m0:00:01\u001b[0m\n",
      "\u001b[?25hDownloading pycocotools-2.0.10-cp312-abi3-macosx_10_13_universal2.whl (142 kB)\n",
      "Downloading scikit_learn-1.7.0-cp313-cp313-macosx_12_0_arm64.whl (10.6 MB)\n",
      "\u001b[2K   \u001b[90m━━━━━━━━━━━━━━━━━━━━━━━━━━━━━━━━━━━━━━━━\u001b[0m \u001b[32m10.6/10.6 MB\u001b[0m \u001b[31m16.9 MB/s\u001b[0m eta \u001b[36m0:00:00\u001b[0m00:01\u001b[0m0:01\u001b[0m\n",
      "\u001b[?25hDownloading joblib-1.5.1-py3-none-any.whl (307 kB)\n",
      "Downloading threadpoolctl-3.6.0-py3-none-any.whl (18 kB)\n",
      "Building wheels for collected packages: numpy\n",
      "  Building wheel for numpy (pyproject.toml) ... \u001b[?25ldone\n",
      "\u001b[?25h  Created wheel for numpy: filename=numpy-1.26.4-cp313-cp313-macosx_14_0_arm64.whl size=4680534 sha256=e677e3562dbc79448addf19d5b691a74d61394f02fdbf583c9e7a5a4923949b0\n",
      "  Stored in directory: /Users/melisozvardar/Library/Caches/pip/wheels/8b/2d/9f/b6b46373f328e2ef50388915d351ccacbedac929459b5459bf\n",
      "Successfully built numpy\n",
      "Installing collected packages: SimpleITK, threadpoolctl, soupsieve, pyrsistent, pydicom, numpy, joblib, cython, colorcet, attrs, pycocotools, opencv-python, jsonschema, beautifulsoup4, scikit-learn, pydicom-seg, gdown, cxas\n",
      "\u001b[2K  Attempting uninstall: numpym\u001b[90m━━━━━━━━━━━━━━━━━━━━━━━━━━━━━━━\u001b[0m \u001b[32m 4/18\u001b[0m [pydicom]\n",
      "\u001b[2K    Found existing installation: numpy 2.3.1━━━━━━━━━━━━━━━━━━\u001b[0m \u001b[32m 4/18\u001b[0m [pydicom]\n",
      "\u001b[2K    Uninstalling numpy-2.3.1:0m━━━━━━━━━━━━━━━━━━━━━━━━━━━━━━━\u001b[0m \u001b[32m 4/18\u001b[0m [pydicom]\n",
      "\u001b[2K      Successfully uninstalled numpy-2.3.1━━━━━━━━━━━━━━━━━━━━━━━━\u001b[0m \u001b[32m 5/18\u001b[0m [numpy]\n",
      "\u001b[2K   \u001b[90m━━━━━━━━━━━━━━━━━━━━━━━━━━━━━━━━━━━━━━━━\u001b[0m \u001b[32m18/18\u001b[0m [cxas]2m17/18\u001b[0m [cxas]t-learn]]\n",
      "\u001b[1A\u001b[2KSuccessfully installed SimpleITK-2.5.2 attrs-25.3.0 beautifulsoup4-4.13.4 colorcet-3.1.0 cxas-0.0.17 cython-3.1.2 gdown-5.2.0 joblib-1.5.1 jsonschema-3.2.0 numpy-1.26.4 opencv-python-4.11.0.86 pycocotools-2.0.10 pydicom-2.0.0 pydicom-seg-0.4.1 pyrsistent-0.20.0 scikit-learn-1.7.0 soupsieve-2.7 threadpoolctl-3.6.0\n"
     ]
    }
   ],
   "source": [
    "!pip install cxas"
   ]
  },
  {
   "cell_type": "code",
   "execution_count": 1,
   "metadata": {},
   "outputs": [
    {
     "name": "stdout",
     "output_type": "stream",
     "text": [
      "2.2.2\n"
     ]
    }
   ],
   "source": [
    "import torch\n",
    "print(torch.__version__)"
   ]
  },
  {
   "cell_type": "code",
   "execution_count": 5,
   "metadata": {},
   "outputs": [
    {
     "name": "stdout",
     "output_type": "stream",
     "text": [
      "Intel MKL WARNING: Support of Intel(R) Streaming SIMD Extensions 4.2 (Intel(R) SSE4.2) enabled only processors has been deprecated. Intel oneAPI Math Kernel Library 2025.0 will require Intel(R) Advanced Vector Extensions (Intel(R) AVX) instructions.\n",
      "Intel MKL WARNING: Support of Intel(R) Streaming SIMD Extensions 4.2 (Intel(R) SSE4.2) enabled only processors has been deprecated. Intel oneAPI Math Kernel Library 2025.0 will require Intel(R) Advanced Vector Extensions (Intel(R) AVX) instructions.\n",
      "2025-06-08 13:56:04,035 - INFO - Processing file: ../data/xray.jpg...\n",
      "2025-06-08 13:56:09,978 - INFO - Segmentation completed. Results stored in: ../output\n"
     ]
    }
   ],
   "source": [
    "!cxas_segment -i ../data/xray.jpg -o ../output/ -ot png -g cpu"
   ]
  },
  {
   "cell_type": "code",
   "execution_count": null,
   "metadata": {},
   "outputs": [],
   "source": []
  }
 ],
 "metadata": {
  "kernelspec": {
   "display_name": "base",
   "language": "python",
   "name": "python3"
  },
  "language_info": {
   "codemirror_mode": {
    "name": "ipython",
    "version": 3
   },
   "file_extension": ".py",
   "mimetype": "text/x-python",
   "name": "python",
   "nbconvert_exporter": "python",
   "pygments_lexer": "ipython3",
   "version": "3.13.5"
  }
 },
 "nbformat": 4,
 "nbformat_minor": 2
}
